{
  "cells": [
    {
      "cell_type": "markdown",
      "metadata": {
        "id": "view-in-github",
        "colab_type": "text"
      },
      "source": [
        "<a href=\"https://colab.research.google.com/github/reypowgithub/Tugas_Visi_Komputer_TelU_2023/blob/main/Tugas_5_Reynhard_Powiwi.ipynb\" target=\"_parent\"><img src=\"https://colab.research.google.com/assets/colab-badge.svg\" alt=\"Open In Colab\"/></a>"
      ]
    },
    {
      "cell_type": "markdown",
      "metadata": {
        "id": "xW90hwnz1Jg1"
      },
      "source": [
        "**CII4Q3 Visi Komputer**\n",
        "\n",
        "---\n",
        "\n",
        "\n",
        "\n",
        "#Exercise 4: Membuat Klasifikasi dengan SVM tanpa ekstrasi Fitur\n",
        "\n",
        "---\n",
        "\n",
        "<p>Nama  = Reynhard Powiwi - Muhammad Fadhil Fadhlurrahman </p>\n",
        "<p>NIM   = 1301204091 - 1301204439 </p>\n",
        "<p>Kelas = IF-44-PIL-IS01 📚👨‍🎓</p>\n",
        "\n",
        "---\n",
        "\n",
        "Buat program klasifikasi cats vs dogs menggunakan supervised learning. Disini kami menggunakan Support Vector Machine (SVM)\n",
        "\n"
      ]
    },
    {
      "cell_type": "markdown",
      "metadata": {
        "id": "rX8mhOLljYeM"
      },
      "source": [
        "##### Copyright 2019 The TensorFlow Authors."
      ]
    },
    {
      "cell_type": "code",
      "execution_count": null,
      "metadata": {
        "id": "BZSlp3DAjdYf"
      },
      "outputs": [],
      "source": [
        "#@title Licensed under the Apache License, Version 2.0 (the \"License\");\n",
        "# you may not use this file except in compliance with the License.\n",
        "# You may obtain a copy of the License at\n",
        "#\n",
        "# https://www.apache.org/licenses/LICENSE-2.0\n",
        "#\n",
        "# Unless required by applicable law or agreed to in writing, software\n",
        "# distributed under the License is distributed on an \"AS IS\" BASIS,\n",
        "# WITHOUT WARRANTIES OR CONDITIONS OF ANY KIND, either express or implied.\n",
        "# See the License for the specific language governing permissions and\n",
        "# limitations under the License."
      ]
    },
    {
      "cell_type": "code",
      "execution_count": null,
      "metadata": {
        "id": "_B91kvqCsoFA",
        "colab": {
          "base_uri": "https://localhost:8080/"
        },
        "outputId": "21c0ca34-8287-4291-da25-b891e264bbf8"
      },
      "outputs": [
        {
          "output_type": "stream",
          "name": "stdout",
          "text": [
            "--2023-11-06 05:35:26--  https://storage.googleapis.com/mledu-datasets/cats_and_dogs_filtered.zip\n",
            "Resolving storage.googleapis.com (storage.googleapis.com)... 74.125.126.207, 74.125.132.207, 74.125.201.207, ...\n",
            "Connecting to storage.googleapis.com (storage.googleapis.com)|74.125.126.207|:443... connected.\n",
            "HTTP request sent, awaiting response... 200 OK\n",
            "Length: 68606236 (65M) [application/zip]\n",
            "Saving to: ‘/tmp/cats_and_dogs_filtered.zip’\n",
            "\n",
            "/tmp/cats_and_dogs_ 100%[===================>]  65.43M   182MB/s    in 0.4s    \n",
            "\n",
            "2023-11-06 05:35:27 (182 MB/s) - ‘/tmp/cats_and_dogs_filtered.zip’ saved [68606236/68606236]\n",
            "\n"
          ]
        },
        {
          "output_type": "stream",
          "name": "stderr",
          "text": [
            "WARNING:absl:`lr` is deprecated in Keras optimizer, please use `learning_rate` or use the legacy optimizer, e.g.,tf.keras.optimizers.legacy.RMSprop.\n"
          ]
        },
        {
          "output_type": "stream",
          "name": "stdout",
          "text": [
            "Found 2000 images belonging to 2 classes.\n",
            "Found 1000 images belonging to 2 classes.\n",
            "Epoch 1/60\n",
            "60/60 - 23s - loss: 0.6998 - accuracy: 0.4708 - val_loss: 0.6938 - val_accuracy: 0.5000 - 23s/epoch - 381ms/step\n",
            "Epoch 2/60\n",
            "60/60 - 11s - loss: 0.6936 - accuracy: 0.4975 - val_loss: 0.6969 - val_accuracy: 0.5000 - 11s/epoch - 184ms/step\n",
            "Epoch 3/60\n",
            "60/60 - 11s - loss: 0.6948 - accuracy: 0.5050 - val_loss: 0.6893 - val_accuracy: 0.5520 - 11s/epoch - 185ms/step\n",
            "Epoch 4/60\n",
            "60/60 - 11s - loss: 0.6909 - accuracy: 0.5333 - val_loss: 0.6838 - val_accuracy: 0.5710 - 11s/epoch - 182ms/step\n",
            "Epoch 5/60\n",
            "60/60 - 10s - loss: 0.6804 - accuracy: 0.5750 - val_loss: 0.6745 - val_accuracy: 0.5570 - 10s/epoch - 171ms/step\n",
            "Epoch 6/60\n",
            "60/60 - 11s - loss: 0.6600 - accuracy: 0.5967 - val_loss: 0.6915 - val_accuracy: 0.5350 - 11s/epoch - 182ms/step\n",
            "Epoch 7/60\n",
            "60/60 - 12s - loss: 0.6582 - accuracy: 0.6158 - val_loss: 0.6189 - val_accuracy: 0.6830 - 12s/epoch - 207ms/step\n",
            "Epoch 8/60\n",
            "60/60 - 13s - loss: 0.6636 - accuracy: 0.6408 - val_loss: 0.7065 - val_accuracy: 0.5680 - 13s/epoch - 214ms/step\n",
            "Epoch 9/60\n",
            "60/60 - 11s - loss: 0.6445 - accuracy: 0.6100 - val_loss: 0.6378 - val_accuracy: 0.6530 - 11s/epoch - 189ms/step\n",
            "Epoch 10/60\n",
            "60/60 - 12s - loss: 0.6245 - accuracy: 0.6567 - val_loss: 0.5743 - val_accuracy: 0.7100 - 12s/epoch - 192ms/step\n",
            "Epoch 11/60\n",
            "60/60 - 11s - loss: 0.6174 - accuracy: 0.6517 - val_loss: 0.5882 - val_accuracy: 0.6890 - 11s/epoch - 191ms/step\n",
            "Epoch 12/60\n",
            "60/60 - 11s - loss: 0.6091 - accuracy: 0.6733 - val_loss: 0.5589 - val_accuracy: 0.7080 - 11s/epoch - 187ms/step\n",
            "Epoch 13/60\n",
            "60/60 - 11s - loss: 0.6042 - accuracy: 0.6692 - val_loss: 0.5131 - val_accuracy: 0.7310 - 11s/epoch - 187ms/step\n",
            "Epoch 14/60\n",
            "60/60 - 11s - loss: 0.5921 - accuracy: 0.6950 - val_loss: 0.5109 - val_accuracy: 0.7500 - 11s/epoch - 184ms/step\n",
            "Epoch 15/60\n",
            "60/60 - 14s - loss: 0.5887 - accuracy: 0.6925 - val_loss: 0.5596 - val_accuracy: 0.7420 - 14s/epoch - 237ms/step\n",
            "Epoch 16/60\n",
            "60/60 - 11s - loss: 0.5752 - accuracy: 0.7117 - val_loss: 0.5396 - val_accuracy: 0.7250 - 11s/epoch - 191ms/step\n",
            "Epoch 17/60\n",
            "60/60 - 11s - loss: 0.5660 - accuracy: 0.7400 - val_loss: 0.5558 - val_accuracy: 0.7260 - 11s/epoch - 181ms/step\n",
            "Epoch 18/60\n",
            "60/60 - 11s - loss: 0.5435 - accuracy: 0.7233 - val_loss: 0.6376 - val_accuracy: 0.6760 - 11s/epoch - 186ms/step\n",
            "Epoch 19/60\n",
            "60/60 - 11s - loss: 0.5325 - accuracy: 0.7317 - val_loss: 0.5069 - val_accuracy: 0.7540 - 11s/epoch - 189ms/step\n",
            "Epoch 20/60\n",
            "60/60 - 11s - loss: 0.5365 - accuracy: 0.7233 - val_loss: 0.7546 - val_accuracy: 0.6530 - 11s/epoch - 187ms/step\n",
            "Epoch 21/60\n",
            "60/60 - 11s - loss: 0.5448 - accuracy: 0.7258 - val_loss: 0.5082 - val_accuracy: 0.7480 - 11s/epoch - 177ms/step\n",
            "Epoch 22/60\n",
            "60/60 - 12s - loss: 0.5425 - accuracy: 0.7208 - val_loss: 0.6712 - val_accuracy: 0.6900 - 12s/epoch - 197ms/step\n",
            "Epoch 23/60\n",
            "60/60 - 11s - loss: 0.5083 - accuracy: 0.7492 - val_loss: 0.5264 - val_accuracy: 0.7460 - 11s/epoch - 188ms/step\n",
            "Epoch 24/60\n",
            "60/60 - 11s - loss: 0.5161 - accuracy: 0.7467 - val_loss: 0.5285 - val_accuracy: 0.7310 - 11s/epoch - 188ms/step\n",
            "Epoch 25/60\n",
            "60/60 - 12s - loss: 0.5105 - accuracy: 0.7592 - val_loss: 0.4823 - val_accuracy: 0.7680 - 12s/epoch - 208ms/step\n",
            "Epoch 26/60\n",
            "60/60 - 11s - loss: 0.4928 - accuracy: 0.7717 - val_loss: 0.5401 - val_accuracy: 0.7550 - 11s/epoch - 184ms/step\n",
            "Epoch 27/60\n",
            "60/60 - 11s - loss: 0.4915 - accuracy: 0.7733 - val_loss: 0.5644 - val_accuracy: 0.7270 - 11s/epoch - 190ms/step\n",
            "Epoch 28/60\n",
            "60/60 - 11s - loss: 0.5063 - accuracy: 0.7575 - val_loss: 0.4761 - val_accuracy: 0.7780 - 11s/epoch - 184ms/step\n",
            "Epoch 29/60\n",
            "60/60 - 11s - loss: 0.4786 - accuracy: 0.7858 - val_loss: 0.4969 - val_accuracy: 0.7750 - 11s/epoch - 184ms/step\n",
            "Epoch 30/60\n",
            "60/60 - 11s - loss: 0.4888 - accuracy: 0.7625 - val_loss: 0.4790 - val_accuracy: 0.7850 - 11s/epoch - 177ms/step\n",
            "Epoch 31/60\n",
            "60/60 - 11s - loss: 0.4728 - accuracy: 0.7808 - val_loss: 0.4734 - val_accuracy: 0.7830 - 11s/epoch - 187ms/step\n",
            "Epoch 32/60\n",
            "60/60 - 11s - loss: 0.4993 - accuracy: 0.7608 - val_loss: 0.4661 - val_accuracy: 0.7810 - 11s/epoch - 185ms/step\n",
            "Epoch 33/60\n",
            "60/60 - 11s - loss: 0.4473 - accuracy: 0.7900 - val_loss: 0.5469 - val_accuracy: 0.7560 - 11s/epoch - 185ms/step\n",
            "Epoch 34/60\n",
            "60/60 - 11s - loss: 0.4841 - accuracy: 0.7683 - val_loss: 0.5309 - val_accuracy: 0.7280 - 11s/epoch - 175ms/step\n",
            "Epoch 35/60\n",
            "60/60 - 10s - loss: 0.4459 - accuracy: 0.7875 - val_loss: 0.5339 - val_accuracy: 0.7550 - 10s/epoch - 172ms/step\n",
            "Epoch 36/60\n",
            "60/60 - 11s - loss: 0.4676 - accuracy: 0.7767 - val_loss: 0.4655 - val_accuracy: 0.7840 - 11s/epoch - 187ms/step\n",
            "Epoch 37/60\n",
            "60/60 - 11s - loss: 0.4281 - accuracy: 0.8167 - val_loss: 0.4597 - val_accuracy: 0.7940 - 11s/epoch - 185ms/step\n",
            "Epoch 38/60\n",
            "60/60 - 11s - loss: 0.4585 - accuracy: 0.7958 - val_loss: 0.4573 - val_accuracy: 0.7990 - 11s/epoch - 184ms/step\n",
            "Epoch 39/60\n",
            "60/60 - 11s - loss: 0.4447 - accuracy: 0.7917 - val_loss: 0.4677 - val_accuracy: 0.8070 - 11s/epoch - 185ms/step\n",
            "Epoch 40/60\n",
            "60/60 - 11s - loss: 0.4581 - accuracy: 0.7858 - val_loss: 0.4666 - val_accuracy: 0.7790 - 11s/epoch - 182ms/step\n",
            "Epoch 41/60\n",
            "60/60 - 12s - loss: 0.4321 - accuracy: 0.8108 - val_loss: 0.4920 - val_accuracy: 0.7680 - 12s/epoch - 196ms/step\n",
            "Epoch 42/60\n",
            "60/60 - 11s - loss: 0.4337 - accuracy: 0.8092 - val_loss: 0.4390 - val_accuracy: 0.8070 - 11s/epoch - 188ms/step\n",
            "Epoch 43/60\n",
            "60/60 - 11s - loss: 0.4227 - accuracy: 0.8058 - val_loss: 0.4550 - val_accuracy: 0.7910 - 11s/epoch - 189ms/step\n",
            "Epoch 44/60\n",
            "60/60 - 11s - loss: 0.4057 - accuracy: 0.8167 - val_loss: 0.5092 - val_accuracy: 0.7740 - 11s/epoch - 184ms/step\n",
            "Epoch 45/60\n",
            "60/60 - 11s - loss: 0.4369 - accuracy: 0.8033 - val_loss: 0.4344 - val_accuracy: 0.8090 - 11s/epoch - 185ms/step\n",
            "Epoch 46/60\n",
            "60/60 - 11s - loss: 0.4072 - accuracy: 0.8033 - val_loss: 0.4743 - val_accuracy: 0.7940 - 11s/epoch - 175ms/step\n",
            "Epoch 47/60\n",
            "60/60 - 11s - loss: 0.4334 - accuracy: 0.7942 - val_loss: 0.4224 - val_accuracy: 0.8180 - 11s/epoch - 182ms/step\n",
            "Epoch 48/60\n",
            "60/60 - 11s - loss: 0.3944 - accuracy: 0.8142 - val_loss: 0.4888 - val_accuracy: 0.7770 - 11s/epoch - 182ms/step\n",
            "Epoch 49/60\n",
            "60/60 - 11s - loss: 0.4314 - accuracy: 0.8192 - val_loss: 0.4291 - val_accuracy: 0.8070 - 11s/epoch - 183ms/step\n",
            "Epoch 50/60\n",
            "60/60 - 11s - loss: 0.3765 - accuracy: 0.8308 - val_loss: 0.4066 - val_accuracy: 0.8250 - 11s/epoch - 184ms/step\n",
            "Epoch 51/60\n",
            "60/60 - 11s - loss: 0.3808 - accuracy: 0.8342 - val_loss: 0.4229 - val_accuracy: 0.8190 - 11s/epoch - 182ms/step\n",
            "Epoch 52/60\n",
            "60/60 - 11s - loss: 0.3852 - accuracy: 0.8217 - val_loss: 0.4364 - val_accuracy: 0.8060 - 11s/epoch - 180ms/step\n",
            "Epoch 53/60\n",
            "60/60 - 11s - loss: 0.3834 - accuracy: 0.8308 - val_loss: 0.4457 - val_accuracy: 0.8090 - 11s/epoch - 185ms/step\n",
            "Epoch 54/60\n",
            "60/60 - 11s - loss: 0.3809 - accuracy: 0.8217 - val_loss: 0.4820 - val_accuracy: 0.8190 - 11s/epoch - 185ms/step\n",
            "Epoch 55/60\n",
            "60/60 - 11s - loss: 0.3834 - accuracy: 0.8417 - val_loss: 0.4689 - val_accuracy: 0.8070 - 11s/epoch - 185ms/step\n",
            "Epoch 56/60\n",
            "60/60 - 11s - loss: 0.3763 - accuracy: 0.8342 - val_loss: 0.4852 - val_accuracy: 0.8060 - 11s/epoch - 184ms/step\n",
            "Epoch 57/60\n",
            "60/60 - 11s - loss: 0.3835 - accuracy: 0.8267 - val_loss: 0.4668 - val_accuracy: 0.7960 - 11s/epoch - 186ms/step\n",
            "Epoch 58/60\n",
            "60/60 - 11s - loss: 0.3855 - accuracy: 0.8383 - val_loss: 0.4558 - val_accuracy: 0.8050 - 11s/epoch - 182ms/step\n",
            "Epoch 59/60\n",
            "60/60 - 14s - loss: 0.3620 - accuracy: 0.8458 - val_loss: 0.4589 - val_accuracy: 0.8000 - 14s/epoch - 239ms/step\n",
            "Epoch 60/60\n",
            "60/60 - 11s - loss: 0.3860 - accuracy: 0.8442 - val_loss: 0.4923 - val_accuracy: 0.8060 - 11s/epoch - 183ms/step\n"
          ]
        }
      ],
      "source": [
        "!wget --no-check-certificate \\\n",
        "    https://storage.googleapis.com/mledu-datasets/cats_and_dogs_filtered.zip \\\n",
        "    -O /tmp/cats_and_dogs_filtered.zip\n",
        "\n",
        "import os\n",
        "import zipfile\n",
        "import tensorflow as tf\n",
        "from tensorflow.keras.optimizers import RMSprop\n",
        "from tensorflow.keras.preprocessing.image import ImageDataGenerator\n",
        "from sklearn.svm import SVC\n",
        "from sklearn.metrics import classification_report\n",
        "\n",
        "local_zip = '/tmp/cats_and_dogs_filtered.zip'\n",
        "zip_ref = zipfile.ZipFile(local_zip, 'r')\n",
        "zip_ref.extractall('/tmp')\n",
        "zip_ref.close()\n",
        "\n",
        "base_dir = '/tmp/cats_and_dogs_filtered'\n",
        "train_dir = os.path.join(base_dir, 'train')\n",
        "validation_dir = os.path.join(base_dir, 'validation')\n",
        "\n",
        "# Directory with our training cat pictures\n",
        "train_cats_dir = os.path.join(train_dir, 'cats')\n",
        "\n",
        "# Directory with our training dog pictures\n",
        "train_dogs_dir = os.path.join(train_dir, 'dogs')\n",
        "\n",
        "# Directory with our validation cat pictures\n",
        "validation_cats_dir = os.path.join(validation_dir, 'cats')\n",
        "\n",
        "# Directory with our validation dog pictures\n",
        "validation_dogs_dir = os.path.join(validation_dir, 'dogs')\n",
        "\n",
        "model = tf.keras.models.Sequential([\n",
        "    tf.keras.layers.Conv2D(32, (3,3), activation='relu', input_shape=(150, 150, 3)),\n",
        "    tf.keras.layers.MaxPooling2D(2, 2),\n",
        "    tf.keras.layers.Conv2D(64, (3,3), activation='relu'),\n",
        "    tf.keras.layers.MaxPooling2D(2,2),\n",
        "    tf.keras.layers.Conv2D(128, (3,3), activation='relu'),\n",
        "    tf.keras.layers.MaxPooling2D(2,2),\n",
        "    tf.keras.layers.Conv2D(128, (3,3), activation='relu'),\n",
        "    tf.keras.layers.MaxPooling2D(2,2),\n",
        "    tf.keras.layers.Dropout(0.5),\n",
        "    tf.keras.layers.Flatten(),\n",
        "    tf.keras.layers.Dense(512, activation='relu'),\n",
        "    tf.keras.layers.Dense(1, activation='sigmoid')\n",
        "])\n",
        "\n",
        "model.compile(loss='binary_crossentropy',\n",
        "              optimizer=RMSprop(lr=1e-4),\n",
        "              metrics=['accuracy'])\n",
        "\n",
        "# This code has changed. Now instead of the ImageGenerator just rescaling\n",
        "# the image, we also rotate and do other operations\n",
        "# Updated to do image augmentation\n",
        "train_datagen = ImageDataGenerator(\n",
        "      rescale=1./255,\n",
        "      rotation_range=15,\n",
        "      width_shift_range=0.1,\n",
        "      height_shift_range=0.1,\n",
        "      shear_range=0.1,\n",
        "      zoom_range=0.1,\n",
        "      horizontal_flip=True,\n",
        "      brightness_range=[0.8, 1.2], #tambahkan brightness untuk variasi kecerahan gambar.\n",
        "      fill_mode='nearest')\n",
        "\n",
        "test_datagen = ImageDataGenerator(rescale=1./255)\n",
        "\n",
        "# Flow training images in batches of 20 using train_datagen generator\n",
        "train_generator = train_datagen.flow_from_directory(\n",
        "        train_dir,  # This is the source directory for training images\n",
        "        target_size=(150, 150),  # All images will be resized to 150x150\n",
        "        batch_size=20,\n",
        "        # Since we use binary_crossentropy loss, we need binary labels\n",
        "        class_mode='binary')\n",
        "\n",
        "# Flow validation images in batches of 20 using test_datagen generator\n",
        "validation_generator = test_datagen.flow_from_directory(\n",
        "        validation_dir,\n",
        "        target_size=(150, 150),\n",
        "        batch_size=20,\n",
        "        class_mode='binary')\n",
        "\n",
        "history = model.fit(\n",
        "      train_generator,\n",
        "      steps_per_epoch=60,  # 2000 images = batch_size * steps\n",
        "      epochs=60,\n",
        "      validation_data=validation_generator,\n",
        "      validation_steps=50,  # 1000 images = batch_size * steps\n",
        "      verbose=2)\n",
        "\n"
      ]
    },
    {
      "cell_type": "code",
      "execution_count": null,
      "metadata": {
        "colab": {
          "base_uri": "https://localhost:8080/",
          "height": 887
        },
        "id": "4A8rE2fez0h2",
        "outputId": "68d5f3e8-28d0-4f5a-be8b-56e80a93a5ff"
      },
      "outputs": [
        {
          "output_type": "display_data",
          "data": {
            "text/plain": [
              "<Figure size 640x480 with 1 Axes>"
            ],
            "image/png": "[encoded data removed]"
          },
          "metadata": {}
        },
        {
          "output_type": "display_data",
          "data": {
            "text/plain": [
              "<Figure size 640x480 with 1 Axes>"
            ],
            "image/png": "[encoded data removed]"
          },
          "metadata": {}
        }
      ],
      "source": [
        "import matplotlib.pyplot as plt\n",
        "acc = history.history['accuracy']\n",
        "val_acc = history.history['val_accuracy']\n",
        "loss = history.history['loss']\n",
        "val_loss = history.history['val_loss']\n",
        "\n",
        "epochs = range(len(acc))\n",
        "\n",
        "plt.plot(epochs, acc, 'bo', label='Training accuracy')\n",
        "plt.plot(epochs, val_acc, 'b', label='Validation accuracy')\n",
        "plt.title('Training and validation accuracy')\n",
        "\n",
        "plt.figure()\n",
        "\n",
        "plt.plot(epochs, loss, 'bo', label='Training Loss')\n",
        "plt.plot(epochs, val_loss, 'b', label='Validation Loss')\n",
        "plt.title('Training and validation loss')\n",
        "plt.legend()\n",
        "\n",
        "plt.show()"
      ]
    },
    {
      "cell_type": "markdown",
      "source": [
        "# Klasifikasi dengan SVM tanpa menggunakan ekstraksi fitur"
      ],
      "metadata": {
        "id": "a2vC-RwvmqgM"
      }
    },
    {
      "cell_type": "code",
      "execution_count": null,
      "metadata": {
        "id": "eLUZCu1lGwA6"
      },
      "outputs": [],
      "source": [
        "# Membuat Klasifikasi SVM\n",
        "svm_classifier = SVC(kernel='linear')\n",
        "\n"
      ]
    },
    {
      "cell_type": "markdown",
      "source": [
        "**Mengubah Bentuk Data Latih**\n",
        "\n",
        "Data latih diambil dari generator data train_generator. Data awal ini dalam bentuk tensor yang merupakan hasil keluaran dari model jaringan saraf tiruan (neural network) sebelumnya. Data ini kemudian diubah bentuk (reshaped) menjadi matriks dua dimensi (2D) dengan dimensi (num_samples, feature_vector_length). Panjang vektor fitur (feature_vector_length) adalah hasil perkalian dari lebar,tinggi, dan jumlah saluran warna pada gambar yang digunakan, yaitu 150x150x3."
      ],
      "metadata": {
        "id": "zBgcc9PGlYhp"
      }
    },
    {
      "cell_type": "code",
      "source": [
        "train_data, train_labels = train_generator.next()\n",
        "num_samples, feature_vector_length = train_data.shape[0], train_data.shape[1] * train_data.shape[2] * train_data.shape[3]\n",
        "train_data = train_data.reshape(num_samples, feature_vector_length)"
      ],
      "metadata": {
        "id": "MiUlcaQUll6X"
      },
      "execution_count": null,
      "outputs": []
    },
    {
      "cell_type": "markdown",
      "source": [
        "**Melatih Klasifikasi SVM**\n",
        "\n",
        "Klasifikasi SVM dilatih (fit) menggunakan data latih yang sudah diubah bentuk. Ini berarti SVM belajar untuk menentukan batas keputusan yang memisahkan gambar-gambar kucing dari gambar-gambar anjing. Model SVM disesuaikan dengan data latih sehingga dapat mengklasifikasikan gambar-gambar tersebut dengan benar."
      ],
      "metadata": {
        "id": "mg7fYQFolnZ5"
      }
    },
    {
      "cell_type": "code",
      "source": [
        "svm_classifier.fit(train_data, train_labels)"
      ],
      "metadata": {
        "id": "oJJ1Rffrlxtu",
        "colab": {
          "base_uri": "https://localhost:8080/"
        },
        "outputId": "f3f3ffae-9536-4240-f88a-078587ef9183"
      },
      "execution_count": null,
      "outputs": [
        {
          "output_type": "execute_result",
          "data": {
            "text/plain": [
              "SVC(kernel='linear')"
            ],
            "text/html": [
              "<style>#sk-container-id-1 {color: black;background-color: white;}#sk-container-id-1 pre{padding: 0;}#sk-container-id-1 div.sk-toggleable {background-color: white;}#sk-container-id-1 label.sk-toggleable__label {cursor: pointer;display: block;width: 100%;margin-bottom: 0;padding: 0.3em;box-sizing: border-box;text-align: center;}#sk-container-id-1 label.sk-toggleable__label-arrow:before {content: \"▸\";float: left;margin-right: 0.25em;color: #696969;}#sk-container-id-1 label.sk-toggleable__label-arrow:hover:before {color: black;}#sk-container-id-1 div.sk-estimator:hover label.sk-toggleable__label-arrow:before {color: black;}#sk-container-id-1 div.sk-toggleable__content {max-height: 0;max-width: 0;overflow: hidden;text-align: left;background-color: #f0f8ff;}#sk-container-id-1 div.sk-toggleable__content pre {margin: 0.2em;color: black;border-radius: 0.25em;background-color: #f0f8ff;}#sk-container-id-1 input.sk-toggleable__control:checked~div.sk-toggleable__content {max-height: 200px;max-width: 100%;overflow: auto;}#sk-container-id-1 input.sk-toggleable__control:checked~label.sk-toggleable__label-arrow:before {content: \"▾\";}#sk-container-id-1 div.sk-estimator input.sk-toggleable__control:checked~label.sk-toggleable__label {background-color: #d4ebff;}#sk-container-id-1 div.sk-label input.sk-toggleable__control:checked~label.sk-toggleable__label {background-color: #d4ebff;}#sk-container-id-1 input.sk-hidden--visually {border: 0;clip: rect(1px 1px 1px 1px);clip: rect(1px, 1px, 1px, 1px);height: 1px;margin: -1px;overflow: hidden;padding: 0;position: absolute;width: 1px;}#sk-container-id-1 div.sk-estimator {font-family: monospace;background-color: #f0f8ff;border: 1px dotted black;border-radius: 0.25em;box-sizing: border-box;margin-bottom: 0.5em;}#sk-container-id-1 div.sk-estimator:hover {background-color: #d4ebff;}#sk-container-id-1 div.sk-parallel-item::after {content: \"\";width: 100%;border-bottom: 1px solid gray;flex-grow: 1;}#sk-container-id-1 div.sk-label:hover label.sk-toggleable__label {background-color: #d4ebff;}#sk-container-id-1 div.sk-serial::before {content: \"\";position: absolute;border-left: 1px solid gray;box-sizing: border-box;top: 0;bottom: 0;left: 50%;z-index: 0;}#sk-container-id-1 div.sk-serial {display: flex;flex-direction: column;align-items: center;background-color: white;padding-right: 0.2em;padding-left: 0.2em;position: relative;}#sk-container-id-1 div.sk-item {position: relative;z-index: 1;}#sk-container-id-1 div.sk-parallel {display: flex;align-items: stretch;justify-content: center;background-color: white;position: relative;}#sk-container-id-1 div.sk-item::before, #sk-container-id-1 div.sk-parallel-item::before {content: \"\";position: absolute;border-left: 1px solid gray;box-sizing: border-box;top: 0;bottom: 0;left: 50%;z-index: -1;}#sk-container-id-1 div.sk-parallel-item {display: flex;flex-direction: column;z-index: 1;position: relative;background-color: white;}#sk-container-id-1 div.sk-parallel-item:first-child::after {align-self: flex-end;width: 50%;}#sk-container-id-1 div.sk-parallel-item:last-child::after {align-self: flex-start;width: 50%;}#sk-container-id-1 div.sk-parallel-item:only-child::after {width: 0;}#sk-container-id-1 div.sk-dashed-wrapped {border: 1px dashed gray;margin: 0 0.4em 0.5em 0.4em;box-sizing: border-box;padding-bottom: 0.4em;background-color: white;}#sk-container-id-1 div.sk-label label {font-family: monospace;font-weight: bold;display: inline-block;line-height: 1.2em;}#sk-container-id-1 div.sk-label-container {text-align: center;}#sk-container-id-1 div.sk-container {/* jupyter's `normalize.less` sets `[hidden] { display: none; }` but bootstrap.min.css set `[hidden] { display: none !important; }` so we also need the `!important` here to be able to override the default hidden behavior on the sphinx rendered scikit-learn.org. See: https://github.com/scikit-learn/scikit-learn/issues/21755 */display: inline-block !important;position: relative;}#sk-container-id-1 div.sk-text-repr-fallback {display: none;}</style><div id=\"sk-container-id-1\" class=\"sk-top-container\"><div class=\"sk-text-repr-fallback\"><pre>SVC(kernel=&#x27;linear&#x27;)</pre><b>In a Jupyter environment, please rerun this cell to show the HTML representation or trust the notebook. <br />On GitHub, the HTML representation is unable to render, please try loading this page with nbviewer.org.</b></div><div class=\"sk-container\" hidden><div class=\"sk-item\"><div class=\"sk-estimator sk-toggleable\"><input class=\"sk-toggleable__control sk-hidden--visually\" id=\"sk-estimator-id-1\" type=\"checkbox\" checked><label for=\"sk-estimator-id-1\" class=\"sk-toggleable__label sk-toggleable__label-arrow\">SVC</label><div class=\"sk-toggleable__content\"><pre>SVC(kernel=&#x27;linear&#x27;)</pre></div></div></div></div></div>"
            ]
          },
          "metadata": {},
          "execution_count": 8
        }
      ]
    },
    {
      "cell_type": "markdown",
      "source": [
        "**Merubah Bentuk Data Validasi**\n",
        "\n",
        "Langkah selanjutnya adalah melakukan hal yang sama pada data validasi. Data validasi diambil dari generator data validation_generator, kemudian diubah bentuk ke dalam format yang sesuai dengan yang digunakan untuk data latih."
      ],
      "metadata": {
        "id": "-oCys4S1l52W"
      }
    },
    {
      "cell_type": "code",
      "source": [
        "validation_data, validation_labels = validation_generator.next()\n",
        "num_samples, feature_vector_length = validation_data.shape[0], validation_data.shape[1] * validation_data.shape[2] * validation_data.shape[3]\n",
        "validation_data = validation_data.reshape(num_samples, feature_vector_length)"
      ],
      "metadata": {
        "id": "IqoYMw0xl0V7"
      },
      "execution_count": null,
      "outputs": []
    },
    {
      "cell_type": "markdown",
      "source": [
        "**Menggunakan Klasifikasi SVM untuk Prediksi**\n",
        "\n",
        "Setelah klasifikasi SVM dilatih dan data validasi sudah diubah bentuk, model SVM digunakan untuk melakukan prediksi pada data validasi. Ini berarti SVM akan mengklasifikasikan gambar-gambar validasi ke dalam dua kelas, \"Kucing\" atau \"Anjing.\""
      ],
      "metadata": {
        "id": "njib-7pxmMjD"
      }
    },
    {
      "cell_type": "code",
      "source": [
        "predictions = svm_classifier.predict(validation_data)"
      ],
      "metadata": {
        "id": "d_L3SzR4mWxu"
      },
      "execution_count": null,
      "outputs": []
    },
    {
      "cell_type": "markdown",
      "source": [
        "**Evaluasi Klasifikasi**\n",
        "\n",
        "Terakhir, kode tersebut menggunakan perpustakaan sklearn untuk membuat laporan evaluasi klasifikasi. Laporan ini mencakup sejumlah metrik evaluasi seperti akurasi, presisi, dan lainnya, yang mengukur seberapa baik klasifikasi dilakukan. Hasil laporan ini dicetak ke layar dengan print(report)."
      ],
      "metadata": {
        "id": "MffzVfzimEQH"
      }
    },
    {
      "cell_type": "code",
      "source": [
        "# Create a label mapping dictionary\n",
        "label_mapping = {0.0: 'Kucing', 1.0: 'Anjing'}\n",
        "\n",
        "# Map the predictions and validation labels to the descriptive labels\n",
        "predictions_descriptive = [label_mapping[label] for label in predictions]\n",
        "validation_labels_descriptive = [label_mapping[label] for label in validation_labels]\n",
        "\n",
        "# Evaluate the classifier\n",
        "report = classification_report(validation_labels_descriptive, predictions_descriptive)\n",
        "print(report)"
      ],
      "metadata": {
        "id": "sUxs9j52mhq5",
        "colab": {
          "base_uri": "https://localhost:8080/"
        },
        "outputId": "f68f7402-58a5-47fd-bc45-edce5450bcf0"
      },
      "execution_count": null,
      "outputs": [
        {
          "output_type": "stream",
          "name": "stdout",
          "text": [
            "              precision    recall  f1-score   support\n",
            "\n",
            "      Anjing       0.50      0.36      0.42        11\n",
            "      Kucing       0.42      0.56      0.48         9\n",
            "\n",
            "    accuracy                           0.45        20\n",
            "   macro avg       0.46      0.46      0.45        20\n",
            "weighted avg       0.46      0.45      0.45        20\n",
            "\n"
          ]
        }
      ]
    },
    {
      "cell_type": "markdown",
      "source": [
        "*   **Precision**: Precision mengukur sejauh mana model memprediksi dengan benar kelas positif\n",
        "*   **Recall**: Recall mengukur sejauh mana model berhasil menemukan semua instance kelas yang benar.\n",
        "*   **F1-Score**: F1-score adalah rata-rata harmonik dari precision dan recall.\n",
        "*   **Support**: Ini adalah jumlah instance yang termasuk dalam masing-masing kelas dalam dataset validasi.\n",
        "*   **Accuracy**: Akurasi adalah ukuran dari sejauh mana model benar-benar memprediksi kelas yang benar\n",
        "\n",
        "Dalam keseluruhan, laporan ini menunjukkan bahwa model mengalami masalah dengan precision dan recall yang sangat rendah. Hal ini mungkin disebabkan oleh kita tidak menggunakan ekstrasi fitur, namun hanya langsung mengklasifikasi sehingga hasil klasifikasi masih buruk"
      ],
      "metadata": {
        "id": "H7pcQiCWf--K"
      }
    },
    {
      "cell_type": "markdown",
      "source": [
        "# Klasifikasi dengan SVM dengan ektrasi fitur Histogram of Oriented Gradients (HOG)"
      ],
      "metadata": {
        "id": "mxClLknlif9_"
      }
    },
    {
      "cell_type": "markdown",
      "source": [
        "**Import Library**\n",
        "\n",
        "Import labrary yang dibutuhkan.\n",
        "\n",
        "\n",
        "*   numpy untuk operasi numberik\n",
        "*   cv2 untuk pemrosesan citra\n",
        "*   skimage.feature untuk metode ekstrasi fitur HOG\n",
        "\n",
        "\n",
        "Kemudian inisialisasi klasifikasi SVM dengan kernel linerar menggunakan  SVC(kernel='linear')\n",
        "\n"
      ],
      "metadata": {
        "id": "SdM1XDACmUt2"
      }
    },
    {
      "cell_type": "code",
      "source": [
        "import numpy as np\n",
        "import cv2\n",
        "from skimage.feature import hog\n",
        "\n",
        "# Membuat sebuah Klasifikasi SVM\n",
        "svm_classifier = SVC(kernel='linear')"
      ],
      "metadata": {
        "id": "nGs59ITNib9I"
      },
      "execution_count": null,
      "outputs": []
    },
    {
      "cell_type": "markdown",
      "source": [
        "**Ekstraksi Fitur HOG untuk data training**\n",
        "\n",
        "Melakukan ekstraksi fitur HOG dari data training yang diberikan oleh train_generator. kemudian setiap gambar dalam format RGB akan dikonversi menjadi citra skala abu-abu. dan setelah itu baru dilakukan ektraksi fitur dari citra menggunakan metode HOG. terakhir, hasil dari fitur HOG akan dimasukan ke sebuah list.\n",
        "\n",
        "\n",
        "Kemudian masuk ke Reshaping, dimana fitur HOG yang dari sebuah list akan diubah kedalam bentuk array numpy. kemudian jumlah sampel dan panjang vektor fitur diambil dari bentuk array. serta label training sesuai dengan jumlah sampel yang telah di ekstraksi.\n",
        "\n",
        "Terakhir kita melatih klasifikasi SVM dari data training."
      ],
      "metadata": {
        "id": "7oA_Wj4WmeF4"
      }
    },
    {
      "cell_type": "code",
      "source": [
        "# Ekstraksi Fitur HOG dari data training\n",
        "hog_features_train = []\n",
        "train_data, train_labels = train_generator.next()\n",
        "\n",
        "for i in range(train_data.shape[0]):\n",
        "    # Mengubah image ke greyscale\n",
        "    gray_image = cv2.cvtColor(train_data[i], cv2.COLOR_RGB2GRAY)\n",
        "    # Ekstrak Fitur HOG\n",
        "    features, hog_image = hog(gray_image, pixels_per_cell=(8, 8), cells_per_block=(2, 2), visualize=True)\n",
        "    hog_features_train.append(features)\n",
        "\n",
        "# Membentuk kembali data training (num_samples, feature_vector_length)\n",
        "hog_features_train = np.array(hog_features_train)\n",
        "num_samples, feature_vector_length = hog_features_train.shape[0], hog_features_train.shape[1]\n",
        "train_labels = train_labels[:num_samples]  # Make sure labels match the number of samples\n",
        "\n",
        "# Melatih klasifikasi SVM\n",
        "svm_classifier.fit(hog_features_train, train_labels)"
      ],
      "metadata": {
        "id": "inqyf4namepZ"
      },
      "execution_count": null,
      "outputs": []
    },
    {
      "cell_type": "markdown",
      "source": [
        "**Ekstraksi Fitur HOG untuk data validasi**\n",
        "\n",
        "Hal yang sama dilakukan namun pada data validasi. kemudian klasifikasi yang telah dilatih tadi akan digunakan untuk memprediksi hasil pada data validasi"
      ],
      "metadata": {
        "id": "2-o-NEuCmsaR"
      }
    },
    {
      "cell_type": "code",
      "source": [
        "# Ekstraksi Fitur HOG dari validasi\n",
        "hog_features_validation = []\n",
        "validation_data, validation_labels = validation_generator.next()\n",
        "\n",
        "for i in range(validation_data.shape[0]):\n",
        "    # Mengubah image ke greyscale\n",
        "    gray_image = cv2.cvtColor(validation_data[i], cv2.COLOR_RGB2GRAY)\n",
        "    # Ekstrak Fitur HOG\n",
        "    features, hog_image = hog(gray_image, pixels_per_cell=(8, 8), cells_per_block=(2, 2), visualize=True)\n",
        "    hog_features_validation.append(features)\n",
        "\n",
        "# Membentuk kembali data validasi (num_samples, feature_vector_length)\n",
        "hog_features_validation = np.array(hog_features_validation)\n",
        "num_samples, feature_vector_length = hog_features_validation.shape[0], hog_features_validation.shape[1]\n",
        "validation_labels = validation_labels[:num_samples]  # Make sure labels match the number of samples\\\n",
        "\n",
        "# melakukan prediksi menggunakan klasifikasi SVM yang telah dilatih\n",
        "predictions = svm_classifier.predict(hog_features_validation)"
      ],
      "metadata": {
        "id": "E4Y_nlzlmssx"
      },
      "execution_count": null,
      "outputs": []
    },
    {
      "cell_type": "markdown",
      "source": [
        "**Evaluasi Klasifikasi**\n",
        "\n",
        "Terakhir, sebuah kamus dibuat untuk memetakan label numerik. dimana (0.0) sebagai kucing dan (1.0) sebagai anjing. dan dilakukan evaluasi prediksi dan label validasi"
      ],
      "metadata": {
        "id": "NsAi_fY0m3Q5"
      }
    },
    {
      "cell_type": "code",
      "source": [
        "# Membuat kamus pemetaan label\n",
        "label_mapping = {0.0: 'Kucing', 1.0: 'Anjing'}\n",
        "\n",
        "# Memetakan hasil prediksi dan label validasi ke label deskriptif\n",
        "predictions_descriptive = [label_mapping[label] for label in predictions]\n",
        "validation_labels_descriptive = [label_mapping[label] for label in validation_labels]\n",
        "\n",
        "# Mengevaluasi klasifikasinya\n",
        "report = classification_report(validation_labels_descriptive, predictions_descriptive)\n",
        "print(report)"
      ],
      "metadata": {
        "colab": {
          "base_uri": "https://localhost:8080/"
        },
        "id": "-x1zZSMoimEy",
        "outputId": "c5d80ce5-54b8-449b-c676-6b4f7652f73d"
      },
      "execution_count": null,
      "outputs": [
        {
          "output_type": "stream",
          "name": "stdout",
          "text": [
            "              precision    recall  f1-score   support\n",
            "\n",
            "      Anjing       1.00      0.09      0.17        11\n",
            "      Kucing       0.47      1.00      0.64         9\n",
            "\n",
            "    accuracy                           0.50        20\n",
            "   macro avg       0.74      0.55      0.40        20\n",
            "weighted avg       0.76      0.50      0.38        20\n",
            "\n"
          ]
        }
      ]
    },
    {
      "cell_type": "markdown",
      "source": [],
      "metadata": {
        "id": "59YMRhwsm-nh"
      }
    },
    {
      "cell_type": "markdown",
      "source": [
        "# Klasifikasi dengan SVM dengan ektrasi fitur LBP"
      ],
      "metadata": {
        "id": "p6EyqYzBmsAL"
      }
    },
    {
      "cell_type": "markdown",
      "source": [
        "**Import Library**\n",
        "\n",
        "Import labrary yang dibutuhkan.\n",
        "\n",
        "\n",
        "*   classification_report untuk menghasilkan laporan klasifikasi\n",
        "*   compute_class_weight untuk menghitung bobot kelas berimbang\n",
        "*   skimage.feature untuk metode ekstrasi fitur LBP\n",
        "\n",
        "\n",
        "Kemudian inisialisasi klasifikasi SVM dengan kernel linerar menggunakan  SVC(kernel='linear')"
      ],
      "metadata": {
        "id": "I3287paYslVR"
      }
    },
    {
      "cell_type": "code",
      "source": [
        "from sklearn.metrics import classification_report\n",
        "from sklearn.utils.class_weight import compute_class_weight\n",
        "from skimage.feature import local_binary_pattern"
      ],
      "metadata": {
        "id": "XsndM6xHsmlZ"
      },
      "execution_count": null,
      "outputs": []
    },
    {
      "cell_type": "markdown",
      "source": [
        "**Ekstraksi Fitur LBP untuk data training**\n",
        "\n",
        "Melakukan ekstraksi fitur LBP dari data training yang diberikan oleh train_generator. kemudian setiap gambar dalam format RGB akan dikonversi menjadi citra skala abu-abu. dan setelah itu baru dilakukan ektraksi fitur dari citra menggunakan metode HOG. Kemudian kita menghitung histogram LBP. terakhir, hasil dari histogram LBP akan dimasukan ke sebuah list.\n",
        "\n",
        "\n",
        "Kemudian masuk ke Reshaping, dimana hasil histogram LBP yang dari sebuah list akan diubah kedalam bentuk array numpy. kemudian menghitung bobot kelas yang seimbang sehingga model dapat memperlakukan kelas yang kurang umum menjadi lebih baik. Terakhir, menginisialisasikan  SVM dengan kernel linear dan menggunakan bobot kelas yang dihitung dalam model SVM"
      ],
      "metadata": {
        "id": "_UBRDOo9spnk"
      }
    },
    {
      "cell_type": "code",
      "source": [
        "# Ekstraksi LBP fitur dari data training\n",
        "lbp_features_train = []\n",
        "train_data, train_labels = train_generator.next()\n",
        "\n",
        "for i in range(train_data.shape[0]):\n",
        "    gray_image = cv2.cvtColor(train_data[i], cv2.COLOR_RGB2GRAY)\n",
        "    radius = 1\n",
        "    n_points = 8 * radius\n",
        "    lbp_image = local_binary_pattern(gray_image, n_points, radius, method='uniform')\n",
        "    lbp_hist, _ = np.histogram(lbp_image.ravel(), bins=np.arange(0, n_points + 3), range=(0, n_points + 2))\n",
        "    lbp_features_train.append(lbp_hist)\n",
        "\n",
        "lbp_features_train = np.array(lbp_features_train)\n",
        "\n",
        "# Melatih klasifikasi SVM dengan menggunakan bobot kelas\n",
        "class_weights = compute_class_weight('balanced', classes=np.unique(train_labels), y=train_labels)\n",
        "svm_classifier = SVC(kernel='linear', class_weight=dict(enumerate(class_weights)))\n",
        "svm_classifier.fit(lbp_features_train, train_labels)"
      ],
      "metadata": {
        "id": "hHsWRhqesuB3"
      },
      "execution_count": null,
      "outputs": []
    },
    {
      "cell_type": "markdown",
      "source": [
        "**Ekstraksi Fitur LBP untuk data validasi**\n",
        "\n",
        "Hal yang sama dilakukan namun pada data validasi. kemudian klasifikasi SVM yang telah dilatih tadi digunakan untuk memprediksi hasil pada data validasi."
      ],
      "metadata": {
        "id": "IH15wt5CsqHw"
      }
    },
    {
      "cell_type": "code",
      "source": [
        "# Ekstraksi LBP fitur dari data validasi\n",
        "lbp_features_validation = []\n",
        "for i in range(validation_data.shape[0]):\n",
        "    gray_image = cv2.cvtColor(validation_data[i], cv2.COLOR_RGB2GRAY)\n",
        "    radius = 1\n",
        "    n_points = 8 * radius\n",
        "    lbp_image = local_binary_pattern(gray_image, n_points, radius, method='uniform')\n",
        "    lbp_hist, _ = np.histogram(lbp_image.ravel(), bins=np.arange(0, n_points + 3), range=(0, n_points + 2))\n",
        "    lbp_features_validation.append(lbp_hist)\n",
        "\n",
        "lbp_features_validation = np.array(lbp_features_validation)\n",
        "\n",
        "# melakukan prediksi menggunakan klasifikasi SVM yang telah dilatih\n",
        "predictions = svm_classifier.predict(lbp_features_validation).astype(int)"
      ],
      "metadata": {
        "id": "ZNz6PMNDmwA5"
      },
      "execution_count": null,
      "outputs": []
    },
    {
      "cell_type": "markdown",
      "source": [
        "**Evaluasi Klasifikasi**\n",
        "\n",
        "Terakhir, sebuah kamus dibuat untuk memetakan label numerik. dimana (0.0) sebagai kucing dan (1.0) sebagai anjing. dan dilakukan evaluasi prediksi dan label validasi"
      ],
      "metadata": {
        "id": "sXD6yqv5s1P2"
      }
    },
    {
      "cell_type": "code",
      "source": [
        "# Membuat kamus pemetaan label\n",
        "label_mapping = {0: 'Kucing', 1: 'Anjing'}\n",
        "\n",
        "# Memetakan hasil prediksi dan label validasi ke label deskriptif\n",
        "predictions_descriptive = [label_mapping[label] for label in predictions]\n",
        "validation_labels_descriptive = [label_mapping[label] for label in validation_labels.astype(int)]\n",
        "\n",
        "# Mengevaluasi klasifikasinya\n",
        "report = classification_report(validation_labels_descriptive, predictions_descriptive)\n",
        "print(report)\n",
        "\n"
      ],
      "metadata": {
        "id": "iN7mWI9moIgO"
      },
      "execution_count": null,
      "outputs": []
    },
    {
      "cell_type": "markdown",
      "source": [],
      "metadata": {
        "id": "_ALcEhRBAoCo"
      }
    },
    {
      "cell_type": "markdown",
      "source": [
        "# Klasifikasi dengan SVM dengan ektrasi fitur Scale-Invariant Feature Transform (SIFT)"
      ],
      "metadata": {
        "id": "Wtbla-YN7jsn"
      }
    },
    {
      "cell_type": "code",
      "source": [
        "import cv2\n",
        "import numpy as np\n",
        "from sklearn.svm import SVC\n",
        "from sklearn.metrics import classification_report\n",
        "\n",
        "# Set a limit for the number of samples to use from training and validation\n",
        "sample_limit = 1000\n",
        "\n",
        "sift_features_train = []\n",
        "train_labels = []\n",
        "\n",
        "# Loop through the training images\n",
        "for i, image_file in enumerate(os.listdir(train_cats_dir)):\n",
        "    if i >= sample_limit:\n",
        "        break\n",
        "    image_path = os.path.join(train_cats_dir, image_file)\n",
        "    image = cv2.imread(image_path)\n",
        "    gray_image = cv2.cvtColor(image, cv2.COLOR_BGR2GRAY)\n",
        "\n",
        "    # Extract SIFT features\n",
        "    sift = cv2.SIFT_create()\n",
        "    keypoints, descriptors = sift.detectAndCompute(gray_image, None)\n",
        "\n",
        "    if descriptors is not None and len(descriptors) > 0:\n",
        "        sift_features_train.extend(descriptors)\n",
        "        train_labels.extend([0] * len(descriptors))  # 0 represents cats\n",
        "\n",
        "# Repeat the same process for the dog images (replace 'train_cats_dir' with 'train_dogs_dir')\n",
        "for i, image_file in enumerate(os.listdir(train_dogs_dir)):\n",
        "    if i >= sample_limit:\n",
        "        break\n",
        "    image_path = os.path.join(train_dogs_dir, image_file)\n",
        "    image = cv2.imread(image_path)\n",
        "    gray_image = cv2.cvtColor(image, cv2.COLOR_BGR2GRAY)\n",
        "\n",
        "    # Extract SIFT features\n",
        "    sift = cv2.SIFT_create()\n",
        "    keypoints, descriptors = sift.detectAndCompute(gray_image, None)\n",
        "\n",
        "    if descriptors is not None and len(descriptors) > 0:\n",
        "        sift_features_train.extend(descriptors)\n",
        "        train_labels.extend([1] * len(descriptors))  # 1 represents dogs\n",
        "\n",
        "# Convert the list of SIFT features and labels to NumPy arrays\n",
        "sift_features_train = np.array(sift_features_train)\n",
        "train_labels = np.array(train_labels)\n",
        "\n",
        "# Repeat the same process for validation with the same sample limit\n",
        "sift_features_validation = []\n",
        "validation_labels = []\n",
        "\n",
        "for i, image_file in enumerate(os.listdir(validation_cats_dir)):\n",
        "    if i >= sample_limit:\n",
        "        break\n",
        "    image_path = os.path.join(validation_cats_dir, image_file)\n",
        "    image = cv2.imread(image_path)\n",
        "    gray_image = cv2.cvtColor(image, cv2.COLOR_BGR2GRAY)\n",
        "\n",
        "    # Extract SIFT features\n",
        "    sift = cv2.SIFT_create()\n",
        "    keypoints, descriptors = sift.detectAndCompute(gray_image, None)\n",
        "\n",
        "    if descriptors is not None and len(descriptors) > 0:\n",
        "        sift_features_validation.extend(descriptors)\n",
        "        validation_labels.extend([0] * len(descriptors))  # 0 represents cats\n",
        "\n",
        "# Repeat the same process for the dog images (replace 'validation_cats_dir' with 'validation_dogs_dir')\n",
        "for i, image_file in enumerate(os.listdir(validation_dogs_dir)):\n",
        "    if i >= sample_limit:\n",
        "        break\n",
        "    image_path = os.path.join(validation_dogs_dir, image_file)\n",
        "    image = cv2.imread(image_path)\n",
        "    gray_image = cv2.cvtColor(image, cv2.COLOR_BGR2GRAY)\n",
        "\n",
        "    # Extract SIFT features\n",
        "    sift = cv2.SIFT_create()\n",
        "    keypoints, descriptors = sift.detectAndCompute(gray_image, None)\n",
        "\n",
        "    if descriptors is not None and len(descriptors) > 0:\n",
        "        sift_features_validation.extend(descriptors)\n",
        "        validation_labels.extend([1] * len(descriptors))  # 1 represents dogs\n",
        "\n",
        "# Convert the list of SIFT features and labels to NumPy arrays\n",
        "sift_features_validation = np.array(sift_features_validation)\n",
        "validation_labels = np.array(validation_labels)\n",
        "\n",
        "# Create an SVM classifier with a linear kernel\n",
        "svm_classifier = SVC(kernel='linear')\n",
        "\n",
        "# Train the SVM classifier on the SIFT features from the training data\n",
        "svm_classifier.fit(sift_features_train, train_labels)\n",
        "\n",
        "# Predict using the trained SVM classifier on the validation data\n",
        "predictions = svm_classifier.predict(sift_features_validation)\n",
        "\n",
        "# Map the predictions and validation labels to the descriptive labels\n",
        "label_mapping = {0: 'Cat', 1: 'Dog'}\n",
        "predictions_descriptive = [label_mapping[label] for label in predictions]\n",
        "validation_labels_descriptive = [label_mapping[label] for label in validation_labels]\n",
        "\n",
        "# Evaluate the classifier\n",
        "report = classification_report(validation_labels_descriptive, predictions_descriptive)\n",
        "print(report)"
      ],
      "metadata": {
        "colab": {
          "base_uri": "https://localhost:8080/",
          "height": 254
        },
        "id": "fnjaaS3XAnbP",
        "outputId": "0cfda0c2-d168-40b5-82fd-5cd780f099e4"
      },
      "execution_count": null,
      "outputs": [
        {
          "output_type": "error",
          "ename": "NameError",
          "evalue": "ignored",
          "traceback": [
            "\u001b[0;31m---------------------------------------------------------------------------\u001b[0m",
            "\u001b[0;31mNameError\u001b[0m                                 Traceback (most recent call last)",
            "\u001b[0;32m<ipython-input-1-24a02d205342>\u001b[0m in \u001b[0;36m<cell line: 13>\u001b[0;34m()\u001b[0m\n\u001b[1;32m     11\u001b[0m \u001b[0;34m\u001b[0m\u001b[0m\n\u001b[1;32m     12\u001b[0m \u001b[0;31m# Loop through the training images\u001b[0m\u001b[0;34m\u001b[0m\u001b[0;34m\u001b[0m\u001b[0m\n\u001b[0;32m---> 13\u001b[0;31m \u001b[0;32mfor\u001b[0m \u001b[0mi\u001b[0m\u001b[0;34m,\u001b[0m \u001b[0mimage_file\u001b[0m \u001b[0;32min\u001b[0m \u001b[0menumerate\u001b[0m\u001b[0;34m(\u001b[0m\u001b[0mos\u001b[0m\u001b[0;34m.\u001b[0m\u001b[0mlistdir\u001b[0m\u001b[0;34m(\u001b[0m\u001b[0mtrain_cats_dir\u001b[0m\u001b[0;34m)\u001b[0m\u001b[0;34m)\u001b[0m\u001b[0;34m:\u001b[0m\u001b[0;34m\u001b[0m\u001b[0;34m\u001b[0m\u001b[0m\n\u001b[0m\u001b[1;32m     14\u001b[0m     \u001b[0;32mif\u001b[0m \u001b[0mi\u001b[0m \u001b[0;34m>=\u001b[0m \u001b[0msample_limit\u001b[0m\u001b[0;34m:\u001b[0m\u001b[0;34m\u001b[0m\u001b[0;34m\u001b[0m\u001b[0m\n\u001b[1;32m     15\u001b[0m         \u001b[0;32mbreak\u001b[0m\u001b[0;34m\u001b[0m\u001b[0;34m\u001b[0m\u001b[0m\n",
            "\u001b[0;31mNameError\u001b[0m: name 'os' is not defined"
          ]
        }
      ]
    }
  ],
  "metadata": {
    "accelerator": "GPU",
    "colab": {
      "provenance": [],
      "include_colab_link": true
    },
    "kernelspec": {
      "display_name": "Python 3",
      "name": "python3"
    }
  },
  "nbformat": 4,
  "nbformat_minor": 0
}